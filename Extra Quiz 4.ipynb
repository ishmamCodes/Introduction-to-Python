{
 "cells": [
  {
   "cell_type": "markdown",
   "id": "fcc8a7c1",
   "metadata": {},
   "source": [
    "𝗤𝘂𝗲𝘀𝘁𝗶𝗼𝗻:\n",
    "Write a function called ascii_string that takes a list of strings (length \n",
    "6) as an argument and returns a dictionary. This function should do the \n",
    "following.\n",
    "\n",
    "1. For each string in the list calculate the sum of the ascii value of \n",
    "characters of odd indices.\n",
    "2. Then generate a dictionary in which the keys will be the sum previously \n",
    "determined and the corresponding values of these keys are the strings in \n",
    "the list.\n",
    "3. After generating the dictionary the function needs to return this and \n",
    "your program should print this dictionary.\n",
    "\n",
    "Function Call 1:\n",
    "myFunction([apple, orange, cherry, kiwi, berries, grapes])\n",
    "\n",
    "Sample Output:\n",
    "{220 : “apple” , 325 : “orange” , 339 : “cherry” , 210 : “kiwi” , 316 : \n",
    "“berries” , 341 : “grapes” }\n",
    "\n",
    "Explanation: For the sample input list the first string in the list is \n",
    "“apple” so the characters of odd indices of apple are p and l. The ascii \n",
    "values of p and l are 112 and 108 so the sum of these values are 220. In \n",
    "the resulting dictionary this 220 becomes the key and the corresponding \n",
    "value is apple. Same procedure is applied for all the strings in the list.\n"
   ]
  },
  {
   "cell_type": "code",
   "execution_count": 79,
   "id": "c60dd4ad",
   "metadata": {},
   "outputs": [
    {
     "name": "stdout",
     "output_type": "stream",
     "text": [
      "{220: 'apple', 325: 'orange', 339: 'cherry', 210: 'kiwi', 316: 'berries', 341: 'grapes'}\n"
     ]
    }
   ],
   "source": [
    "def ascii_string(items):\n",
    "    \n",
    "    final_dict={}\n",
    "    odd_checker=0\n",
    "    ans=0\n",
    "    for step in items:\n",
    "        for count in step:\n",
    "            if odd_checker%2!=0:\n",
    "                ans+=ord(count)\n",
    "            odd_checker+=1\n",
    "        final_dict[ans]=step\n",
    "        odd_checker=0\n",
    "        ans=0\n",
    "    print(final_dict)\n",
    "\n",
    "ascii_string([\"apple\", \"orange\", \"cherry\", \"kiwi\", \"berries\", \"grapes\"])  \n",
    "    "
   ]
  }
 ],
 "metadata": {
  "kernelspec": {
   "display_name": "Python 3",
   "language": "python",
   "name": "python3"
  },
  "language_info": {
   "codemirror_mode": {
    "name": "ipython",
    "version": 3
   },
   "file_extension": ".py",
   "mimetype": "text/x-python",
   "name": "python",
   "nbconvert_exporter": "python",
   "pygments_lexer": "ipython3",
   "version": "3.8.8"
  }
 },
 "nbformat": 4,
 "nbformat_minor": 5
}
