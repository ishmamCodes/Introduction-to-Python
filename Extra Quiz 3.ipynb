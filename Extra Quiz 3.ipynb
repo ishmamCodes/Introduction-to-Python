{
 "cells": [
  {
   "cell_type": "markdown",
   "id": "ec3856dc",
   "metadata": {},
   "source": [
    "𝗤𝘂𝗲𝘀𝘁𝗶𝗼𝗻:\n",
    "Imagine you have the following dictionary. Just copy the dictionary from \n",
    "the question to your\n",
    "editor.\n",
    "Dark_characters = \n",
    "{\"Martha\":[20,37,51], \"Noah\":[15,35,41], \"Agnes\":[9,37,38], \"Jonas\":[3,26,25], \"Michael\":[25,50,48]}\n",
    "Your work is to find out the summation of all the values (given in list \n",
    "format). Then, take an input from the user (value from 1-10). If the input \n",
    "given by the user is even, then print all the even sum in a list. Also, \n",
    "print the corresponding character names. Otherwise, print all the odd sum \n",
    "in a list along with another list containing corresponding character names.\n",
    "\n",
    "Sample input 1:\n",
    "1\n",
    "\n",
    "Sample output 1:\n",
    "The list of the odd sum is: [91, 123]\n",
    "The list of the names is: [“Noah”,” Michael”]\n",
    "\n",
    "Explanation 1:\n",
    "Here the user input is an odd number. So, the list contains all the odd \n",
    "sums: 15+35+40=91; 25+50+48=123. The names of these corresponding sums are \n",
    "Noah and Michael.\n",
    "\n",
    "Sample input 2:\n",
    "10\n",
    "\n",
    "Sample output 2:\n",
    "The list of the even sum is: [108, 84,54]\n",
    "The list of the names is: [“Martha”,” Agnes”, “Jonas”]\n",
    "\n",
    "Explanation 2:\n",
    "Here the user input is an even number. So, the list contains all the even \n",
    "sum: 20+37+51=108; 9+37+38=84; 3+26+25=54. The names of these corresponding \n",
    "sums are Martha, Agnes and Jonas.\n"
   ]
  },
  {
   "cell_type": "code",
   "execution_count": 1,
   "id": "09d207b5",
   "metadata": {},
   "outputs": [
    {
     "name": "stdout",
     "output_type": "stream",
     "text": [
      "Please enter your value:83478945789347589345\n",
      "The list of the odd sum is [91, 123] The list of name is: ['Noah', 'Michael']\n"
     ]
    }
   ],
   "source": [
    "Dark_characters = {\"Martha\":[20,37,51], \"Noah\":[15,35,41], \"Agnes\":[9,37,38], \"Jonas\":[3,26,25], \"Michael\":[25,50,48]}\n",
    "\n",
    "list_name=[]\n",
    "for key in Dark_characters.keys():\n",
    "    list_name.append(key)\n",
    "\n",
    "sum=0\n",
    "list_num=[]\n",
    "for value in Dark_characters.values():\n",
    "    for item in value:\n",
    "        sum+=item\n",
    "    list_num.append(sum)\n",
    "    sum=0\n",
    "\n",
    "user_input=int(input(\"Please enter your value:\"))\n",
    "final_list1=[]\n",
    "final_list2=[]\n",
    "count_list=[]\n",
    "\n",
    "count=0\n",
    "if user_input%2==0:\n",
    "    for item in list_num:\n",
    "        if item%2==0:\n",
    "            final_list1.append(item)\n",
    "            count_list.append(count)\n",
    "        count+=1\n",
    "        ans=\"even\"\n",
    "\n",
    "if user_input%2!=0:\n",
    "    for item in list_num:\n",
    "        if item%2!=0:\n",
    "            final_list1.append(item)\n",
    "            count_list.append(count)\n",
    "        count+=1\n",
    "        ans='odd'\n",
    "\n",
    "for item in count_list:\n",
    "    final_list2.append(list_name[item])\n",
    "\n",
    "        \n",
    "print(\"The list of the\", ans, \"sum is\", final_list1, \"The list of name is:\", final_list2)"
   ]
  },
  {
   "cell_type": "code",
   "execution_count": null,
   "id": "735ed0aa",
   "metadata": {},
   "outputs": [],
   "source": []
  }
 ],
 "metadata": {
  "kernelspec": {
   "display_name": "Python 3",
   "language": "python",
   "name": "python3"
  },
  "language_info": {
   "codemirror_mode": {
    "name": "ipython",
    "version": 3
   },
   "file_extension": ".py",
   "mimetype": "text/x-python",
   "name": "python",
   "nbconvert_exporter": "python",
   "pygments_lexer": "ipython3",
   "version": "3.8.8"
  }
 },
 "nbformat": 4,
 "nbformat_minor": 5
}
