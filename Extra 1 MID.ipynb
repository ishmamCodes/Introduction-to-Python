{
 "cells": [
  {
   "cell_type": "markdown",
   "id": "a31c9a52",
   "metadata": {},
   "source": [
    "𝗤𝘂𝗲𝘀𝘁𝗶𝗼𝗻 1:\n",
    "Write a Python program that takes the value of n from the user and \n",
    "calculates the value of S using the following equation:\n",
    "S = (1*2*3) + (3*4*5) - (5*6*7) + (7*8*9) + (9*10*11) - (11*12*13) \n",
    "+........  ((n-2)*(n-1)*n)\n",
    "Here, the value of n should be odd and greater than 2. Otherwise, print \n",
    "“Invalid Input!”.\n",
    "=============================================================\n",
    "Sample Input 1:\n",
    "7\n",
    "\n",
    "Sample Output 1:\n",
    "Value of S is: -144\n",
    "=============================================================\n",
    "Sample Input 2:\n",
    "11\n",
    "\n",
    "Sample Output 2:\n",
    "The value of S is: 1350\n",
    "=============================================================\n",
    "Sample Input 3:\n",
    "-4\n",
    "\n",
    "Sample Output 3:\n",
    "Invalid Input!\n",
    "=============================================================\n",
    "Explanation/Hints:\n",
    "For Sample Input 1 & 2, if you simply implement the given equation in your \n",
    "code, you will get the desired values. For Sample Input 3, as the input is \n",
    "negative, the corresponding output is displayed."
   ]
  },
  {
   "cell_type": "code",
   "execution_count": 36,
   "id": "6e87ea5f",
   "metadata": {
    "scrolled": true
   },
   "outputs": [
    {
     "name": "stdout",
     "output_type": "stream",
     "text": [
      "Enter a value of n:7\n",
      "-144\n"
     ]
    }
   ],
   "source": [
    "user_input=int(input('Enter a value of n:'))\n",
    "\n",
    "if user_input%2==0:\n",
    "    print(\"Invalid Input\")\n",
    "if user_input<2:\n",
    "    print(\"Invalid Input\")\n",
    "    \n",
    "list=[]\n",
    "if user_input>2:\n",
    "    for item in user_input:\n",
    "        list.append(item)\n",
    "    while n>\n",
    "    "
   ]
  },
  {
   "cell_type": "code",
   "execution_count": 33,
   "id": "2d26a96f",
   "metadata": {},
   "outputs": [
    {
     "name": "stdout",
     "output_type": "stream",
     "text": [
      "Enter a sentence: The quick brown fox jumps over the lazy dog\n",
      "T1e q3k b3n f1x j3s o2r t1e l2y d1g "
     ]
    }
   ],
   "source": [
    "string=input(\"Enter a sentence: \")\n",
    "\n",
    "list=[item for item in string.split(' ')]\n",
    "\n",
    "for count in list:\n",
    "    if len(count)<3:\n",
    "        list.remove(count)\n",
    "        \n",
    "chars=''\n",
    "word=\"\"\n",
    "for item in list:\n",
    "    for count in range(len(item)):\n",
    "      chars=item[1:-1]\n",
    "      count=count+1\n",
    "      final=count-2\n",
    "      ans=item[0]+str(final)+item[-1]\n",
    "    print(ans,end=\" \")"
   ]
  }
 ],
 "metadata": {
  "kernelspec": {
   "display_name": "Python 3",
   "language": "python",
   "name": "python3"
  },
  "language_info": {
   "codemirror_mode": {
    "name": "ipython",
    "version": 3
   },
   "file_extension": ".py",
   "mimetype": "text/x-python",
   "name": "python",
   "nbconvert_exporter": "python",
   "pygments_lexer": "ipython3",
   "version": "3.8.8"
  }
 },
 "nbformat": 4,
 "nbformat_minor": 5
}
