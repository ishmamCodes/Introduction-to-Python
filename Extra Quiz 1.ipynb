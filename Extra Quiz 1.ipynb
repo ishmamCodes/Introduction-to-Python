{
 "cells": [
  {
   "cell_type": "code",
   "execution_count": 3,
   "id": "ef89f2d6",
   "metadata": {},
   "outputs": [
    {
     "name": "stdout",
     "output_type": "stream",
     "text": [
      "Enter number of quantities:5\n",
      "Enter marks:20\n",
      "Enter marks:-3\n",
      "Enter marks:105\n",
      "Enter marks:70\n",
      "Enter marks:100\n",
      "Average: 63.333333333333336\n",
      "Error rate (%): 40.0\n"
     ]
    }
   ],
   "source": [
    "user_input=int(input(\"Enter number of quantities:\"))\n",
    "\n",
    "error=0\n",
    "error_rate=0\n",
    "sum=0\n",
    "count=0\n",
    "ans=0\n",
    "step=0\n",
    "\n",
    "for i in range(0, user_input):\n",
    "    user_input2=int(input(\"Enter marks:\"))\n",
    "    if user_input2<0:\n",
    "        error_rate +=1\n",
    "        step+=1\n",
    "    elif user_input2>100:\n",
    "         error_rate += 1\n",
    "         step+=1\n",
    "           \n",
    "    elif (user_input2>0) and (user_input2<101):\n",
    "        sum += user_input2\n",
    "        count+=1\n",
    "        step+=1\n",
    "        avg=(sum/count)\n",
    "ans=((error_rate/step)*100) \n",
    "print(\"Average:\", avg)\n",
    "print(\"Error rate (%):\", ans)"
   ]
  },
  {
   "cell_type": "code",
   "execution_count": null,
   "id": "719fd4aa",
   "metadata": {},
   "outputs": [],
   "source": [
    "𝗤𝘂𝗲𝘀𝘁𝗶𝗼𝗻:\n",
    "Write a Python program that asks the user for a quantity and takes that many marks out of 100 as input. Valid marks are 0 to 100. However, due to user error, some marks may fall outside that range, say 101 or -5 (minus five). Print average of valid marks and percentage of invalid marks (Error Rate). Assume there is at least one valid mark and at least one invalid mark.\n",
    "\n",
    "========================================================\n",
    "Sample Input 1: \n",
    "5\n",
    "20\n",
    "-3\n",
    "105\n",
    "70\n",
    "100\n",
    "\n",
    "Sample Output 1:\n",
    "Average: 63.333333333333336\n",
    "Error Rate (%): 40.0\n",
    "Explanation 1: \n",
    "5 means there are 5 inputs.\n",
    "Average of valid marks is (20+70+100)/3 =190/3  = 63.333333333333336\n",
    "-3 and 105 are invalid. So, there are 2 numbers out of 5 that are invalid. Hence  the percentage = 2/5x100 = 40.0\n",
    "\n",
    "========================================================\n",
    "Sample Input 2: \n",
    "3\n",
    "500\n",
    "3\n",
    "100\n",
    "\n",
    "Sample Output 2:\n",
    "Average: 51.5\n",
    "Error Rate (%): 33.33333333333333\n",
    "Explanation 2: \n",
    "3 means there are 3 inputs.\n",
    "Average of valid marks is (3+100)/2 = 103/2  = 51.5\n",
    "500 is invalid. So, there is 1 number out of 3 that is invalid. Hence the percentage = 1/3x100 = 33.33333333333333"
   ]
  }
 ],
 "metadata": {
  "kernelspec": {
   "display_name": "Python 3",
   "language": "python",
   "name": "python3"
  },
  "language_info": {
   "codemirror_mode": {
    "name": "ipython",
    "version": 3
   },
   "file_extension": ".py",
   "mimetype": "text/x-python",
   "name": "python",
   "nbconvert_exporter": "python",
   "pygments_lexer": "ipython3",
   "version": "3.8.8"
  }
 },
 "nbformat": 4,
 "nbformat_minor": 5
}
