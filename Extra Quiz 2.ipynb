{
 "cells": [
  {
   "cell_type": "markdown",
   "id": "cbff8d95",
   "metadata": {},
   "source": [
    "𝗤𝘂𝗲𝘀𝘁𝗶𝗼𝗻:\n",
    "Take a string input from the user and print a modified string where the characters in the multiple of 3 positions (index starts from 0) are at the beginning, followed by a separator hyphen (-) in the middle and the rest of the characters are at the end. Keep in mind that in the input string there can be characters with both uppercase and lowercase letters, but in the final output, all the characters should be in lowercase. \n",
    "[You can not use built-in function lower() in this problem.]\n",
    "-----------------------------------------------------\n",
    "Sample Input 1: \n",
    "Vito Corleone\n",
    "\n",
    "Sample Output 1: \n",
    "vooee-it crlon\n",
    "\n",
    "Explanation 1: \n",
    "The characters in the multiple of 3 index positions (0,3,6,9,12) are in the beginning, separator hyphen in the middle, and the rest of the characters are concatenated in the end. Also, we can observe that all the output characters are in lowercase.\n",
    "-----------------------------------------------------\n",
    "Sample Input 2: \n",
    "Yoda\n",
    "\n",
    "Sample Output 2: \n",
    "ya-od\n",
    "\n",
    "Explanation 2: \n",
    "The characters in the multiple of 3 index positions (0,3) are in the beginning, the separator hyphen in the middle, and the rest of the characters are concatenated in the end. Also, we can observe that all the output characters are in lowercase.\n",
    "-----------------------------------------------------\n",
    "Sample Input 3: \n",
    "John Connor\n",
    "\n",
    "Sample Output 3: \n",
    "jnoo-oh cnnr\n",
    "\n",
    "Explanation 3: \n",
    "The characters in the multiple of 3 index positions (0,3,6,9) are in the beginning, the separator hyphen in the middle, and the rest of the characters are concatenated in the end. Also, we can observe that all the output characters are in lowercase."
   ]
  },
  {
   "cell_type": "code",
   "execution_count": null,
   "id": "2c56c8ec",
   "metadata": {},
   "outputs": [],
   "source": [
    "user_input=input(\"Enter a word:\")\n",
    "user_input=user_input.lower()\n",
    "user_list=[]\n",
    "list_one=[]\n",
    "list_two=[]\n",
    "\n",
    "for char in user_input:\n",
    "    user_list.append(char)\n",
    "\n",
    "for count in user_list[0:len(user_list):3]:\n",
    "    list_one.append(count)\n",
    "\n",
    "for i in range(len(user_input)):\n",
    "    if i==\" \":\n",
    "        break\n",
    "    if i%3!=0:\n",
    "        list_two.append(user_input[i])\n",
    "for j in list_one:\n",
    "    print(j, end='')\n",
    "    \n",
    "print('-', end='')\n",
    "for k in list_two:\n",
    "    print(k, end='')\n",
    "               "
   ]
  },
  {
   "cell_type": "code",
   "execution_count": null,
   "id": "7788c488",
   "metadata": {},
   "outputs": [],
   "source": []
  }
 ],
 "metadata": {
  "kernelspec": {
   "display_name": "Python 3",
   "language": "python",
   "name": "python3"
  },
  "language_info": {
   "codemirror_mode": {
    "name": "ipython",
    "version": 3
   },
   "file_extension": ".py",
   "mimetype": "text/x-python",
   "name": "python",
   "nbconvert_exporter": "python",
   "pygments_lexer": "ipython3",
   "version": "3.8.8"
  }
 },
 "nbformat": 4,
 "nbformat_minor": 5
}
